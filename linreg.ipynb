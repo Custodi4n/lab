{
  "nbformat": 4,
  "nbformat_minor": 0,
  "metadata": {
    "colab": {
      "provenance": []
    },
    "kernelspec": {
      "name": "python3",
      "display_name": "Python 3"
    },
    "language_info": {
      "name": "python"
    }
  },
  "cells": [
    {
      "cell_type": "markdown",
      "source": [
        "Использую метод fit для обучения модели на основе входных данных \"x\" и \"y\". Чтобы затем, он вычислил коэффициенты \"a\" и \"b\" модели с помощью формул линейной регрессии.\n",
        "\n",
        "Использую метод predict для предсказания значений \"y\" на основе входных данных \"x\" и рассчитанных коэффициентов модели \"a\" и \"b\".\n",
        "\n",
        "Использую метод score для оценки точности модели.\n",
        "\n",
        "Также добавил функцию, если модель не была обучена (коэффициенты \"a\" и \"b\" равны \"None\"), вызывается исключение \"ValueError\"."
      ],
      "metadata": {
        "id": "Lhsx8t4idp9v"
      }
    },
    {
      "cell_type": "code",
      "source": [
        "class MyClass:\n",
        "  def __init__(self):\n",
        "    self.a = None\n",
        "    self.b = None\n",
        "  def fit(self,x,y):\n",
        "    n = len(x)\n",
        "    x_m = sum(x) / n\n",
        "    y_m = sum(y) / n\n",
        "    xy_m = sum([xi*yi for xi,yi in zip(x,y)]) /n\n",
        "    x_squared_mean = sum([xi**2 for xi in x]) / n\n",
        "    self.a = (xy_m - x_m * y_m) / (x_squared_mean - x_m**2)\n",
        "    self.b = y_m - self.a * x_m\n",
        "  def predict(self,x):\n",
        "    if self.a is None or self.b is None:\n",
        "      raise ValueError(\"Модель не обучена(\")\n",
        "    return [self.a * xi + self.b for xi in x]\n",
        "  def score(self,x,y):\n",
        "    try:\n",
        "      y_p = self.predict(x)\n",
        "    except ValueError:\n",
        "      raise ValueError(\"Модель не обучена(\")\n",
        "    y_m = sum(y) / len(y)\n",
        "    fgf = sum([(yi - y_m)**2 for yi in y])\n",
        "    gfg = sum([(yi - y_p[i])**2 for i, yi in enumerate(y)])\n",
        "    return 1 - gfg/fgf"
      ],
      "metadata": {
        "id": "VVAWh_cFjRC-"
      },
      "execution_count": 1,
      "outputs": []
    },
    {
      "cell_type": "markdown",
      "source": [
        "Создаю экземпляр модели \"MyClass\" и инициализирую его. Затем задаю входные данные \"x\" и \"y\" для обучения модели.\n",
        "\n",
        "С помощью метода fit обучаю модель на основе этих данных и рассчитываю коэффициенты \"a\" и \"b\" для линейной регрессии.\n",
        "\n",
        "Затем вывожу значения коэффициетов \"a\" и \"b\".\n",
        "\n",
        "Потом использую модель для предсказания новых значений \"y\" для входных данных 6, 7 и 8 и вывожу результат.\n",
        "\n",
        "В конце оцениваю модель на основе входных данных \"x\" и \"y\" и вывожу результат."
      ],
      "metadata": {
        "id": "DPtKBeHqfFKk"
      }
    },
    {
      "cell_type": "code",
      "source": [
        "model = MyClass()\n",
        "x = [1,3,5,7,9]\n",
        "y = [2,4,6,8,10]\n",
        "model.fit(x,y)\n",
        "print(\"Линейная регрессия: a\",model.a, \"b \", model.b)\n",
        "print(\"Новые значения х:\",model.predict([6,7,8]))\n",
        "print(\"Score\", model.score(x,y))"
      ],
      "metadata": {
        "colab": {
          "base_uri": "https://localhost:8080/"
        },
        "id": "LyT-t6xRxhGK",
        "outputId": "81c2886a-a863-4a2a-ae99-def30676e097"
      },
      "execution_count": 2,
      "outputs": [
        {
          "output_type": "stream",
          "name": "stdout",
          "text": [
            "Линейная регрессия: a 1.0 b  1.0\n",
            "Новые значения х: [7.0, 8.0, 9.0]\n",
            "Score 1.0\n"
          ]
        }
      ]
    },
    {
      "cell_type": "markdown",
      "source": [
        "Делаю то же самое только с использованием библиотеки sklearn.\n",
        "\n",
        "Определяю входные данные \"x\" и \"y\" для обучения модели.\n",
        "\n",
        "Создаю экземпляр модели \"LinearRegression\".\n",
        "\n",
        "С помощью метода fit обучаю модель на основе входных данных \"x\" и \"y\", рассчитывая коэффициенты \"a\" и \"b\" для линейной регрессии.\n",
        "\n",
        "Затем вывожу значения коэффициентов \"a\" и \"b\" с помощью функции print и атрибутов coef_ и intercept_ объекта модели.\n",
        "\n",
        "Потом использую модель для предсказания новых значений \"y\" для входных данных 6, 7 и 8, и вывожу их.\n",
        "\n",
        "В конце оцениваю модель на основе входных данных \"x\" и \"y\" и вывожу результат."
      ],
      "metadata": {
        "id": "E9PkGsH0goLZ"
      }
    },
    {
      "cell_type": "code",
      "source": [
        "import sklearn\n",
        "from sklearn.linear_model import LinearRegression\n",
        "x = [[1],[3],[5],[7],[9]]\n",
        "y = [2,4,6,8,10]\n",
        "model = LinearRegression()\n",
        "model.fit(x,y)\n",
        "\n",
        "print (\"Коэф-ты а\",model.coef_[0],\"b \",model.intercept_)\n",
        "print (\"Нов значение х\",model.predict([[6],[7],[8]]))\n",
        "print (\"Score\", model.score(x,y))"
      ],
      "metadata": {
        "colab": {
          "base_uri": "https://localhost:8080/"
        },
        "id": "tB4tOpoWvWYE",
        "outputId": "ab83493d-ea2e-4701-82f7-1470457f352e"
      },
      "execution_count": 3,
      "outputs": [
        {
          "output_type": "stream",
          "name": "stdout",
          "text": [
            "Коэф-ты а 1.0 b  1.0\n",
            "Нов значение х [7. 8. 9.]\n",
            "Score 1.0\n"
          ]
        }
      ]
    }
  ]
}