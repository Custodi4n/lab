{
  "cells": [
    {
      "cell_type": "markdown",
      "source": [
        "Импортирую необходимые библиотеки."
      ],
      "metadata": {
        "id": "Rogst9kkzJ3U"
      }
    },
    {
      "cell_type": "code",
      "execution_count": 2,
      "metadata": {
        "id": "PKI6MtzDytEm"
      },
      "outputs": [],
      "source": [
        "import pandas as pd\n",
        "import numpy as np\n",
        "import string\n",
        "import re"
      ]
    },
    {
      "cell_type": "markdown",
      "source": [
        "Загружаю и вывожу датасет."
      ],
      "metadata": {
        "id": "3ySbbUE3zOKj"
      }
    },
    {
      "cell_type": "code",
      "execution_count": 3,
      "metadata": {
        "colab": {
          "base_uri": "https://localhost:8080/",
          "height": 206
        },
        "id": "Uo0lLGOVytEn",
        "outputId": "3b9e1f34-af80-4530-9f5c-7055360fcd2e"
      },
      "outputs": [
        {
          "output_type": "execute_result",
          "data": {
            "text/plain": [
              "                                              review sentiment\n",
              "0  One of the other reviewers has mentioned that ...  positive\n",
              "1  A wonderful little production. <br /><br />The...  positive\n",
              "2  I thought this was a wonderful way to spend ti...  positive\n",
              "3  Basically there's a family where a little boy ...  negative\n",
              "4  Petter Mattei's \"Love in the Time of Money\" is...  positive"
            ],
            "text/html": [
              "\n",
              "  <div id=\"df-1c8af56d-b732-4afe-9cc0-d740e92f5a79\">\n",
              "    <div class=\"colab-df-container\">\n",
              "      <div>\n",
              "<style scoped>\n",
              "    .dataframe tbody tr th:only-of-type {\n",
              "        vertical-align: middle;\n",
              "    }\n",
              "\n",
              "    .dataframe tbody tr th {\n",
              "        vertical-align: top;\n",
              "    }\n",
              "\n",
              "    .dataframe thead th {\n",
              "        text-align: right;\n",
              "    }\n",
              "</style>\n",
              "<table border=\"1\" class=\"dataframe\">\n",
              "  <thead>\n",
              "    <tr style=\"text-align: right;\">\n",
              "      <th></th>\n",
              "      <th>review</th>\n",
              "      <th>sentiment</th>\n",
              "    </tr>\n",
              "  </thead>\n",
              "  <tbody>\n",
              "    <tr>\n",
              "      <th>0</th>\n",
              "      <td>One of the other reviewers has mentioned that ...</td>\n",
              "      <td>positive</td>\n",
              "    </tr>\n",
              "    <tr>\n",
              "      <th>1</th>\n",
              "      <td>A wonderful little production. &lt;br /&gt;&lt;br /&gt;The...</td>\n",
              "      <td>positive</td>\n",
              "    </tr>\n",
              "    <tr>\n",
              "      <th>2</th>\n",
              "      <td>I thought this was a wonderful way to spend ti...</td>\n",
              "      <td>positive</td>\n",
              "    </tr>\n",
              "    <tr>\n",
              "      <th>3</th>\n",
              "      <td>Basically there's a family where a little boy ...</td>\n",
              "      <td>negative</td>\n",
              "    </tr>\n",
              "    <tr>\n",
              "      <th>4</th>\n",
              "      <td>Petter Mattei's \"Love in the Time of Money\" is...</td>\n",
              "      <td>positive</td>\n",
              "    </tr>\n",
              "  </tbody>\n",
              "</table>\n",
              "</div>\n",
              "      <button class=\"colab-df-convert\" onclick=\"convertToInteractive('df-1c8af56d-b732-4afe-9cc0-d740e92f5a79')\"\n",
              "              title=\"Convert this dataframe to an interactive table.\"\n",
              "              style=\"display:none;\">\n",
              "        \n",
              "  <svg xmlns=\"http://www.w3.org/2000/svg\" height=\"24px\"viewBox=\"0 0 24 24\"\n",
              "       width=\"24px\">\n",
              "    <path d=\"M0 0h24v24H0V0z\" fill=\"none\"/>\n",
              "    <path d=\"M18.56 5.44l.94 2.06.94-2.06 2.06-.94-2.06-.94-.94-2.06-.94 2.06-2.06.94zm-11 1L8.5 8.5l.94-2.06 2.06-.94-2.06-.94L8.5 2.5l-.94 2.06-2.06.94zm10 10l.94 2.06.94-2.06 2.06-.94-2.06-.94-.94-2.06-.94 2.06-2.06.94z\"/><path d=\"M17.41 7.96l-1.37-1.37c-.4-.4-.92-.59-1.43-.59-.52 0-1.04.2-1.43.59L10.3 9.45l-7.72 7.72c-.78.78-.78 2.05 0 2.83L4 21.41c.39.39.9.59 1.41.59.51 0 1.02-.2 1.41-.59l7.78-7.78 2.81-2.81c.8-.78.8-2.07 0-2.86zM5.41 20L4 18.59l7.72-7.72 1.47 1.35L5.41 20z\"/>\n",
              "  </svg>\n",
              "      </button>\n",
              "      \n",
              "  <style>\n",
              "    .colab-df-container {\n",
              "      display:flex;\n",
              "      flex-wrap:wrap;\n",
              "      gap: 12px;\n",
              "    }\n",
              "\n",
              "    .colab-df-convert {\n",
              "      background-color: #E8F0FE;\n",
              "      border: none;\n",
              "      border-radius: 50%;\n",
              "      cursor: pointer;\n",
              "      display: none;\n",
              "      fill: #1967D2;\n",
              "      height: 32px;\n",
              "      padding: 0 0 0 0;\n",
              "      width: 32px;\n",
              "    }\n",
              "\n",
              "    .colab-df-convert:hover {\n",
              "      background-color: #E2EBFA;\n",
              "      box-shadow: 0px 1px 2px rgba(60, 64, 67, 0.3), 0px 1px 3px 1px rgba(60, 64, 67, 0.15);\n",
              "      fill: #174EA6;\n",
              "    }\n",
              "\n",
              "    [theme=dark] .colab-df-convert {\n",
              "      background-color: #3B4455;\n",
              "      fill: #D2E3FC;\n",
              "    }\n",
              "\n",
              "    [theme=dark] .colab-df-convert:hover {\n",
              "      background-color: #434B5C;\n",
              "      box-shadow: 0px 1px 3px 1px rgba(0, 0, 0, 0.15);\n",
              "      filter: drop-shadow(0px 1px 2px rgba(0, 0, 0, 0.3));\n",
              "      fill: #FFFFFF;\n",
              "    }\n",
              "  </style>\n",
              "\n",
              "      <script>\n",
              "        const buttonEl =\n",
              "          document.querySelector('#df-1c8af56d-b732-4afe-9cc0-d740e92f5a79 button.colab-df-convert');\n",
              "        buttonEl.style.display =\n",
              "          google.colab.kernel.accessAllowed ? 'block' : 'none';\n",
              "\n",
              "        async function convertToInteractive(key) {\n",
              "          const element = document.querySelector('#df-1c8af56d-b732-4afe-9cc0-d740e92f5a79');\n",
              "          const dataTable =\n",
              "            await google.colab.kernel.invokeFunction('convertToInteractive',\n",
              "                                                     [key], {});\n",
              "          if (!dataTable) return;\n",
              "\n",
              "          const docLinkHtml = 'Like what you see? Visit the ' +\n",
              "            '<a target=\"_blank\" href=https://colab.research.google.com/notebooks/data_table.ipynb>data table notebook</a>'\n",
              "            + ' to learn more about interactive tables.';\n",
              "          element.innerHTML = '';\n",
              "          dataTable['output_type'] = 'display_data';\n",
              "          await google.colab.output.renderOutput(dataTable, element);\n",
              "          const docLink = document.createElement('div');\n",
              "          docLink.innerHTML = docLinkHtml;\n",
              "          element.appendChild(docLink);\n",
              "        }\n",
              "      </script>\n",
              "    </div>\n",
              "  </div>\n",
              "  "
            ]
          },
          "metadata": {},
          "execution_count": 3
        }
      ],
      "source": [
        "df = pd.read_csv(\"IMDB_Dataset.csv\", on_bad_lines=\"skip\", engine='python',)\n",
        "df.head()"
      ]
    },
    {
      "cell_type": "markdown",
      "source": [
        "Преобразую все символы в столбце review в нижний регистр."
      ],
      "metadata": {
        "id": "n4SYFNPSCc2l"
      }
    },
    {
      "cell_type": "code",
      "execution_count": 4,
      "metadata": {
        "id": "xLUQ2XYhytEo"
      },
      "outputs": [],
      "source": [
        "df.review = df.review.str.lower()"
      ]
    },
    {
      "cell_type": "markdown",
      "source": [
        "Выполняю замену определенных подстрок и символов в столбце 'review', преобразуя его содержимое."
      ],
      "metadata": {
        "id": "_fjTzDVaCyy-"
      }
    },
    {
      "cell_type": "code",
      "execution_count": 5,
      "metadata": {
        "colab": {
          "base_uri": "https://localhost:8080/"
        },
        "id": "EAflKY-MytEo",
        "outputId": "d923a1fa-ebb6-40df-caf5-a0c7d36c7ec5"
      },
      "outputs": [
        {
          "output_type": "execute_result",
          "data": {
            "text/plain": [
              "0    one of the other reviewers has mentioned that ...\n",
              "1    a wonderful little production   the filming te...\n",
              "2    i thought this was a wonderful way to spend ti...\n",
              "3    basically theres a family where a little boy j...\n",
              "4    petter matteis love in the time of money is a ...\n",
              "Name: review, dtype: object"
            ]
          },
          "metadata": {},
          "execution_count": 5
        }
      ],
      "source": [
        "df['review'] = df['review'].str.replace('br','', regex=True)\n",
        "df['review'] = df['review'].str.replace(r'[.,\"\\'-?:!;/<>()*]', '', regex=True)\n",
        "df['review'].head()"
      ]
    },
    {
      "cell_type": "markdown",
      "source": [
        "Импортирую необходимые библиотеки и загружаю необходимые ресурсы для работы с токенизацией и со стоп-словами."
      ],
      "metadata": {
        "id": "ndVYkZlpDf0Y"
      }
    },
    {
      "cell_type": "code",
      "execution_count": 6,
      "metadata": {
        "colab": {
          "base_uri": "https://localhost:8080/"
        },
        "id": "fAUqU4EWytEo",
        "outputId": "fa1a86c4-2640-49a6-9d7b-aade91117ec6"
      },
      "outputs": [
        {
          "output_type": "stream",
          "name": "stderr",
          "text": [
            "[nltk_data] Downloading package punkt to /root/nltk_data...\n",
            "[nltk_data]   Package punkt is already up-to-date!\n",
            "[nltk_data] Downloading package stopwords to /root/nltk_data...\n",
            "[nltk_data]   Package stopwords is already up-to-date!\n"
          ]
        }
      ],
      "source": [
        "import nltk\n",
        "from nltk.tokenize import sent_tokenize, word_tokenize\n",
        "nltk.download('punkt')\n",
        "nltk.download('stopwords')\n",
        "from nltk.corpus import stopwords"
      ]
    },
    {
      "cell_type": "markdown",
      "source": [
        "Выполняю фильтрацию слов в тексте, используя стоп-слова."
      ],
      "metadata": {
        "id": "hxZ9ePrGEzm6"
      }
    },
    {
      "cell_type": "code",
      "execution_count": 7,
      "metadata": {
        "colab": {
          "base_uri": "https://localhost:8080/"
        },
        "id": "K50I6H69ytEo",
        "outputId": "4d29a607-936b-4394-ca05-79f9a18014c1"
      },
      "outputs": [
        {
          "output_type": "stream",
          "name": "stdout",
          "text": [
            "['0', 'one', 'reviewers', 'mentioned', '...', '1', 'wonderful', 'little', 'production', 'filming', 'te', '...', '2', 'thought', 'wonderful', 'way', 'spend', 'ti', '...', '3', 'basically', 'theres', 'family', 'little', 'boy', 'j', '...', '4', 'petter', 'matteis', 'love', 'time', 'money', '...', '...', '49995', 'thought', 'movie', 'right', 'good', 'job', '...', '49996', 'bad', 'plot', 'bad', 'dialogue', 'bad', 'acting', 'idiotic', 'direc', '...', '49997', 'catholic', 'taught', 'parochial', 'elementary', '...', '49998', 'im', 'going', 'disagree', 'previous', '...', '49999', 'one', 'expects', 'star', 'trek', 'movies', 'high', '...', 'Name', ':', 'review', ',', 'Length', ':', '50000', ',', 'dtype', ':', 'object']\n"
          ]
        }
      ],
      "source": [
        "stop_words = set(stopwords.words('english'))\n",
        "tokenize = word_tokenize(str(df['review']))\n",
        "words_filtered = [word for word in tokenize if not word in stop_words]\n",
        "print(words_filtered)"
      ]
    },
    {
      "cell_type": "markdown",
      "source": [
        "Вывожу стоп-слова."
      ],
      "metadata": {
        "id": "4gPG3m7ME9CL"
      }
    },
    {
      "cell_type": "code",
      "execution_count": 8,
      "metadata": {
        "colab": {
          "base_uri": "https://localhost:8080/"
        },
        "id": "gmiMBO9SytEo",
        "outputId": "4f33d628-d4a9-4fd4-e29e-77a78fd7c771"
      },
      "outputs": [
        {
          "output_type": "stream",
          "name": "stdout",
          "text": [
            "{'while', 'were', 'you', 'his', 'on', 'over', 'our', 'an', 'out', 'some', 'm', 'after', 'hadn', 'all', 'how', 'above', 'ours', 'what', \"don't\", 'am', 'about', 'ain', 'wasn', \"isn't\", 'hasn', \"wouldn't\", 'has', 'other', \"couldn't\", 'at', 'she', \"doesn't\", 'or', 'before', 'yourself', 'in', 'her', 'y', 'again', 'd', 'of', \"you've\", 'but', 'shan', 'its', 'himself', 'itself', 'which', 'by', 'when', 'no', \"weren't\", 'yours', \"mustn't\", 'not', 'any', 'too', 'whom', 'i', 'more', 'this', 'me', 'are', 'those', 'most', 'does', 'doesn', 'needn', 'if', \"you're\", 'them', 'then', \"haven't\", 'won', 'because', 'ma', 'mightn', 'can', 'do', 'the', \"hasn't\", 'to', 'than', 'from', 'under', 'up', 'themselves', 'we', 'very', 'there', 'few', 'against', 'between', 'into', 'theirs', 'these', \"mightn't\", \"needn't\", 'your', 'did', 'yourselves', \"shan't\", 's', 'as', 'couldn', 'further', 'been', 'same', 'that', 'each', 'have', 'be', \"shouldn't\", \"that'll\", 'being', 'only', \"wasn't\", 'both', \"hadn't\", 'was', 'such', 'a', 'below', \"should've\", 'during', 'for', 'my', 'through', 'shouldn', \"you'd\", 't', 'having', 'is', 'had', \"she's\", 'doing', 'until', 'hers', 'don', 'weren', 'their', 'just', 'myself', 'here', 'isn', 'why', \"you'll\", 'once', 'off', 'mustn', 're', 'should', 'who', 'didn', 'own', 'where', 'and', 'so', 'they', 've', 'ourselves', 'o', 'will', 'now', \"didn't\", \"it's\", 'haven', 'wouldn', 'll', 'down', \"aren't\", 'it', 'with', 'he', 'herself', \"won't\", 'nor', 'aren', 'him'}\n"
          ]
        }
      ],
      "source": [
        "print(stop_words)"
      ]
    },
    {
      "cell_type": "markdown",
      "source": [
        "Выполняю загрузку ресурса WordNet из библиотеки NLTK."
      ],
      "metadata": {
        "id": "hm6nMn6PE_0U"
      }
    },
    {
      "cell_type": "code",
      "execution_count": 9,
      "metadata": {
        "colab": {
          "base_uri": "https://localhost:8080/"
        },
        "id": "HSPPMDJDytEp",
        "outputId": "858be1d0-514d-4e7b-cb56-3e250af88b04"
      },
      "outputs": [
        {
          "output_type": "stream",
          "name": "stderr",
          "text": [
            "[nltk_data] Downloading package wordnet to /root/nltk_data...\n",
            "[nltk_data]   Package wordnet is already up-to-date!\n"
          ]
        },
        {
          "output_type": "execute_result",
          "data": {
            "text/plain": [
              "True"
            ]
          },
          "metadata": {},
          "execution_count": 9
        }
      ],
      "source": [
        "nltk.download('wordnet')"
      ]
    },
    {
      "cell_type": "markdown",
      "source": [
        "Выполняю лемматизацию слов."
      ],
      "metadata": {
        "id": "zfZaWXfJGBYf"
      }
    },
    {
      "cell_type": "code",
      "execution_count": 10,
      "metadata": {
        "id": "HNeYOuvbytEp"
      },
      "outputs": [],
      "source": [
        "from nltk.stem import WordNetLemmatizer\n",
        "lemmatizer = WordNetLemmatizer()\n",
        "lemm_review = [lemmatizer.lemmatize(word) for word in words_filtered]"
      ]
    },
    {
      "cell_type": "markdown",
      "source": [
        "Преобразую текстовые данные в векторы признаков, используя CountVectorizer."
      ],
      "metadata": {
        "id": "6GwD2deZG0Bp"
      }
    },
    {
      "cell_type": "code",
      "execution_count": 11,
      "metadata": {
        "id": "jJnNfi0eytEp"
      },
      "outputs": [],
      "source": [
        "from sklearn.feature_extraction.text import CountVectorizer\n",
        "#stop_words = set(stopwords.words('english'))\n",
        "vectorizer = CountVectorizer()  #stop_words=stop_words\n",
        "X = vectorizer.fit_transform(df['review'].values.astype('U'))\n",
        "y = df['sentiment'].values"
      ]
    },
    {
      "cell_type": "markdown",
      "source": [
        "Тут должны выводиться уникальные значения из матрицы признаков \"X\", но мне не хватает ОЗУ для обработки этого кода :\\"
      ],
      "metadata": {
        "id": "R5po7TC9IwSZ"
      }
    },
    {
      "cell_type": "code",
      "execution_count": null,
      "metadata": {
        "id": "lEceYgWvytEp"
      },
      "outputs": [],
      "source": [
        "# X.toarray().unique()\n",
        "np.unique(X.toarray())\n",
        "print(X.toarray())"
      ]
    },
    {
      "cell_type": "markdown",
      "source": [
        "Разделяю данные на обучающий и тестовый наборы."
      ],
      "metadata": {
        "id": "VzRftLOmJaKi"
      }
    },
    {
      "cell_type": "code",
      "execution_count": 12,
      "metadata": {
        "id": "Z5RydVmQytEq"
      },
      "outputs": [],
      "source": [
        "from sklearn.model_selection import train_test_split\n",
        "X_train, X_test, y_train, y_test = train_test_split(X, y, test_size=0.2, random_state=42)"
      ]
    },
    {
      "cell_type": "markdown",
      "source": [
        "Обучаю модель логистической регрессии на обучающем наборе данных."
      ],
      "metadata": {
        "id": "_VsEeZgqKINI"
      }
    },
    {
      "cell_type": "code",
      "execution_count": 13,
      "metadata": {
        "colab": {
          "base_uri": "https://localhost:8080/"
        },
        "id": "rc5sstn8ytEq",
        "outputId": "cc9527fc-ea09-40dc-ef2b-8bcac24c8529"
      },
      "outputs": [
        {
          "output_type": "stream",
          "name": "stderr",
          "text": [
            "/usr/local/lib/python3.10/dist-packages/sklearn/linear_model/_logistic.py:458: ConvergenceWarning: lbfgs failed to converge (status=1):\n",
            "STOP: TOTAL NO. of ITERATIONS REACHED LIMIT.\n",
            "\n",
            "Increase the number of iterations (max_iter) or scale the data as shown in:\n",
            "    https://scikit-learn.org/stable/modules/preprocessing.html\n",
            "Please also refer to the documentation for alternative solver options:\n",
            "    https://scikit-learn.org/stable/modules/linear_model.html#logistic-regression\n",
            "  n_iter_i = _check_optimize_result(\n"
          ]
        }
      ],
      "source": [
        "from sklearn.linear_model import LogisticRegression\n",
        "log_reg = LogisticRegression(random_state=0).fit(X_train, y_train)"
      ]
    },
    {
      "cell_type": "markdown",
      "source": [
        "Играем в экстрасенсов и предсказываем классы, а затем вычисляю точность экстрасенсорных способностей с помощью метрики accuracy_score."
      ],
      "metadata": {
        "id": "NB2s75tyKoLe"
      }
    },
    {
      "cell_type": "code",
      "execution_count": 14,
      "metadata": {
        "colab": {
          "base_uri": "https://localhost:8080/"
        },
        "id": "Ph3DWEn8ytEq",
        "outputId": "aae9d536-57e3-4a30-b4b8-646a3a0d7583"
      },
      "outputs": [
        {
          "output_type": "execute_result",
          "data": {
            "text/plain": [
              "0.8879"
            ]
          },
          "metadata": {},
          "execution_count": 14
        }
      ],
      "source": [
        "x_pred = log_reg.predict(X_test)\n",
        "from sklearn.metrics import accuracy_score\n",
        "accuracy_score(y_test, x_pred)"
      ]
    }
  ],
  "metadata": {
    "language_info": {
      "name": "python"
    },
    "orig_nbformat": 4,
    "colab": {
      "provenance": []
    },
    "kernelspec": {
      "name": "python3",
      "display_name": "Python 3"
    }
  },
  "nbformat": 4,
  "nbformat_minor": 0
}